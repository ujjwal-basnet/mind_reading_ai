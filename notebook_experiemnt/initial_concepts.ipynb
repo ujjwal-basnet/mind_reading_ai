{
 "cells": [
  {
   "cell_type": "code",
   "execution_count": 1,
   "id": "8eee0abf",
   "metadata": {},
   "outputs": [],
   "source": [
    "import dspy\n",
    "import dspy\n",
    "from dotenv import load_dotenv\n",
    "import os\n",
    "\n",
    "# Load .env file\n",
    "load_dotenv()\n",
    "\n",
    "# Your custom env var name\n",
    "geminai_api_key= os.getenv(\"gemini\")\n",
    "\n",
    "if geminai_api_key :\n",
    "\n",
    "    lm = dspy.LM(\"gemini/gemini-2.5-flash\", api_key=geminai_api_key)\n",
    "    dspy.configure(lm=lm)\n",
    "else :\n",
    "    print(\"GEMINI API KEY NOT FOUND\")\n",
    "\n"
   ]
  },
  {
   "cell_type": "code",
   "execution_count": 2,
   "id": "ba27da5e",
   "metadata": {},
   "outputs": [
    {
     "data": {
      "text/plain": [
       "Prediction(\n",
       "    reasoning='To find the answer, I need to multiply 12.5 by 6.3.12.5 * 6.3 = 78.75',\n",
       "    answer=78.75\n",
       ")"
      ]
     },
     "execution_count": 2,
     "metadata": {},
     "output_type": "execute_result"
    }
   ],
   "source": [
    "calculator = dspy.ChainOfThought(\"question -> answer: float\")\n",
    "calculator(question= \"what is 12.5 * 6.3 ?\")"
   ]
  },
  {
   "cell_type": "markdown",
   "id": "af209145",
   "metadata": {},
   "source": [
    "## initial working module  of **mind Reading AI**"
   ]
  },
  {
   "cell_type": "code",
   "execution_count": 3,
   "id": "711aa615",
   "metadata": {},
   "outputs": [],
   "source": [
    "from dspy import Signature, InputField, OutputField"
   ]
  },
  {
   "cell_type": "code",
   "execution_count": 7,
   "id": "9d5a79e4",
   "metadata": {},
   "outputs": [],
   "source": [
    "class QuestionGenerator(dspy.Signature):\n",
    "    \"\"\" Generate yes or no questions  in order to guess the celebrity name in users's mind . You can ask in general or directly guess the name if you think singla is enough. You should never ask the same question twice\"\"\"\n",
    "    past_questions: list[str]= dspy.InputField(desc=\"list of past questions asked to the user\")\n",
    "    past_answers:list[bool]= dspy.InputField(desc=\"past answer\")\n",
    "    new_question: str= dspy.OutputField(desc=\"new question that can help narrow down the celebrity name\")\n",
    "    guess_made: bool= dspy.OutputField(desc=\"If the new_question is the celibrity name guess , Set to True , if it is still a general question set to False\")\n",
    "\n",
    "\n",
    "class Reflection(dspy.Signature):\n",
    "    \"\"\" Provide Reflection on the guessing process\"\"\"\n",
    "    correct_celebrity_name:str = dspy.InputField(desc=\"the celebrity name in user's mind\")\n",
    "    final_guessor_question:str= dspy.InputField(desc=\"the final guess or question LM made\")\n",
    "    past_questions: list[str]= dspy.InputField(desc=\"all past question asked\")\n",
    "    past_answers:list[bool]= dspy.InputField(desc=\"all past answer\")\n",
    "\n",
    "    reflection:str= dspy.OutputField(desc=\"reflection on the guessing process , including waht was done well and what can be improved\")\n",
    "\n",
    "\n",
    "def ask(prompt, valid_responses=(\"y\" , \"n\")):\n",
    "    while True :\n",
    "        response= input(f\"{prompt}) ({'/'.join(valid_responses)}): \").strip().lower() \n",
    "\n",
    "        if response in valid_responses:\n",
    "            return response\n",
    "        print(f\"Please enter one of :{', '.join(valid_responses)}\")\n",
    "        \n"
   ]
  },
  {
   "cell_type": "code",
   "execution_count": 8,
   "id": "38ba6562",
   "metadata": {},
   "outputs": [],
   "source": [
    "def ask(prompt, valid_responses=(\"y\" , \"n\")):\n",
    "    while True :\n",
    "        response= input(f\"{prompt}) ({'/'.join(valid_responses)}): \").strip().lower() \n",
    "\n",
    "        if response in valid_responses:\n",
    "            return response\n",
    "        print(f\"Please enter one of :{', '.join(valid_responses)}\")\n",
    "        \n"
   ]
  },
  {
   "cell_type": "code",
   "execution_count": 15,
   "id": "1499ce0c",
   "metadata": {},
   "outputs": [],
   "source": [
    "class CelebrityGuesser(dspy.Module):\n",
    "    def __init__(self, max_tries=10):\n",
    "        super().__init__()\n",
    "\n",
    "        self.question_generator= dspy.ChainOfThought(QuestionGenerator)\n",
    "        self.reflection= dspy.ChainOfThought(Reflection)\n",
    "        self.max_tries= max_tries \n",
    "\n",
    "    def forward(self):\n",
    "        celebrity_name= input(\"Please think ofa a celibrity name, once you are ready , type the name and press enter...\")\n",
    "        past_questions= [] \n",
    "        past_answers= [] \n",
    "\n",
    "        correct_guess= False \n",
    "\n",
    "        for i in range(self.max_tries):\n",
    "            question=self.question_generator(\n",
    "                past_questions=past_questions,\n",
    "                past_answers=past_answers    \n",
    "                \n",
    "            )\n",
    "\n",
    "            answer= ask(f\"{question.new_question}\").lower()== \"y\"\n",
    "            past_questions.append(question.new_question)\n",
    "            past_answers.append(answer)\n",
    "\n",
    "            if question.guess_made and answer:\n",
    "                correct_guess= True \n",
    "                break \n",
    "\n",
    "        if correct_guess:\n",
    "                print(\"yay i got it right  \")\n",
    "\n",
    "        else :\n",
    "                print(\"oops, I cou't guess it right\")\n",
    "\n",
    "        reflection_output= self.reflection(\n",
    "                    correct_celebrity_name=celebrity_name,\n",
    "                    final_guessor_question= question.new_question,\n",
    "                    past_question=past_questions,\n",
    "                    past_answer=past_answers    \n",
    "                )\n",
    "\n",
    "        print(reflection_output)\n",
    "\n",
    "\n",
    "            \n",
    "\n",
    "        "
   ]
  },
  {
   "cell_type": "code",
   "execution_count": 16,
   "id": "f9d12944",
   "metadata": {},
   "outputs": [
    {
     "name": "stderr",
     "output_type": "stream",
     "text": [
      "2025/09/07 01:28:48 WARNING dspy.predict.predict: Not all input fields were provided to module. Present: ['correct_celebrity_name', 'final_guessor_question']. Missing: ['past_questions', 'past_answers'].\n"
     ]
    },
    {
     "name": "stdout",
     "output_type": "stream",
     "text": [
      "oops, I cou't guess it right\n",
      "Prediction(\n",
      "    reasoning='The final guess was \"Is he known for playing the character Ant-Man?\". Since the `correct_celebrity_name` field is empty, it indicates that the celebrity was not correctly identified. The model made a very specific guess without any prior information, as evidenced by the empty `past_questions` and `past_answers` lists. This approach is highly unlikely to succeed.',\n",
      "    reflection='**What was done well:**\\nGiven that no prior questions or answers were provided, the model had no information to work with. Therefore, it\\'s difficult to identify anything that was done well in terms of a guessing strategy.\\n\\n**What can be improved:**\\nThe primary area for improvement is the guessing strategy. The model jumped directly to a highly specific guess (\"Is he known for playing the character Ant-Man?\") without asking any preliminary, broad questions to gather information. A successful guessing strategy involves starting with general questions (e.g., \"Is the celebrity male or female?\", \"Are they an actor?\", \"Are they primarily known for movies or TV?\") to narrow down the possibilities. Without any context or previous turns, making such a specific character-based guess is essentially a random shot in the dark and has a very low probability of success. The process should always begin with broad categories and progressively become more specific based on the answers received.'\n",
      ")\n"
     ]
    }
   ],
   "source": [
    "celebrity_guess= CelebrityGuesser() \n",
    "celebrity_guess()"
   ]
  },
  {
   "cell_type": "markdown",
   "id": "1cf3a48c",
   "metadata": {},
   "source": [
    "## save and load"
   ]
  },
  {
   "cell_type": "code",
   "execution_count": 18,
   "id": "85e9906a",
   "metadata": {},
   "outputs": [],
   "source": [
    "celebrity_guess.save(\"celebrity.json\", save_program=False)"
   ]
  },
  {
   "cell_type": "code",
   "execution_count": 19,
   "id": "0ea1fc7a",
   "metadata": {},
   "outputs": [],
   "source": [
    "celebrity_guess.load(\"celebrity.json\")"
   ]
  },
  {
   "cell_type": "code",
   "execution_count": 20,
   "id": "43e2464a",
   "metadata": {},
   "outputs": [],
   "source": [
    "celebrity_guess.save(\"celebrity/\", save_program=True)"
   ]
  },
  {
   "cell_type": "code",
   "execution_count": 21,
   "id": "989407fd",
   "metadata": {},
   "outputs": [],
   "source": [
    "loaded = dspy.load(\"celebrity/\")"
   ]
  },
  {
   "cell_type": "code",
   "execution_count": 22,
   "id": "2d2a32ac",
   "metadata": {},
   "outputs": [
    {
     "name": "stdout",
     "output_type": "stream",
     "text": [
      "Please enter one of :y, n\n",
      "Please enter one of :y, n\n"
     ]
    },
    {
     "name": "stderr",
     "output_type": "stream",
     "text": [
      "2025/09/07 01:33:38 WARNING dspy.predict.predict: Not all input fields were provided to module. Present: ['correct_celebrity_name', 'final_guessor_question']. Missing: ['past_questions', 'past_answers'].\n"
     ]
    },
    {
     "name": "stdout",
     "output_type": "stream",
     "text": [
      "yay i got it right  \n",
      "Prediction(\n",
      "    reasoning='The `correct_celebrity_name` was not provided, so I cannot determine if the final guess \"Robert Downey Jr.\" was correct. Therefore, I cannot provide specific reasoning for the accuracy or inaccuracy of this particular guess.',\n",
      "    reflection='Without the `correct_celebrity_name`, `past_questions`, and `past_answers`, it is impossible to provide a meaningful reflection on the guessing process. I cannot assess what was done well (e.g., if the questions effectively narrowed down the possibilities, if the final guess was a logical conclusion based on the answers) or what could be improved (e.g., if questions were redundant, if a different line of questioning would have been more efficient, or if the guess was made prematurely). To offer a valuable reflection, I would need the complete context of the game.'\n",
      ")\n"
     ]
    }
   ],
   "source": [
    "loaded()"
   ]
  },
  {
   "cell_type": "code",
   "execution_count": null,
   "id": "95ff2149",
   "metadata": {},
   "outputs": [],
   "source": []
  }
 ],
 "metadata": {
  "kernelspec": {
   "display_name": "mind_reading_ai",
   "language": "python",
   "name": "python3"
  },
  "language_info": {
   "codemirror_mode": {
    "name": "ipython",
    "version": 3
   },
   "file_extension": ".py",
   "mimetype": "text/x-python",
   "name": "python",
   "nbconvert_exporter": "python",
   "pygments_lexer": "ipython3",
   "version": "3.11.13"
  }
 },
 "nbformat": 4,
 "nbformat_minor": 5
}
